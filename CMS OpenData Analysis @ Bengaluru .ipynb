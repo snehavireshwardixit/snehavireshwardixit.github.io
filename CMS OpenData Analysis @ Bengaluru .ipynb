{
 "cells": [
  {
   "cell_type": "markdown",
   "id": "8d1bd06d",
   "metadata": {},
   "source": [
    "Time to analyse some data! \n",
    "\n",
    "As you might have already inferred, CMS Opendata is accessible in the form of .root files. Normally, .root files are analysed using a special analysis framework called ROOT, which requires Python or C++. ROOT is the scientific analysis framework that is used by most particle physicists to analyse CERN data. Until recently, it was the only way to open and analyse detector data. CERN detector data is released in the form of .root files, which can normally only be opened with ROOT using C++. A more recent version of ROOT, pyROOT, can be used with Python from the command line.\n",
    "\n",
    "You can read the docs here : https://root.cern/\n",
    "\n",
    "In Summer 2022, I worked with researchers at CERN and Fermilab to ensure CMS OpenData from 2015 can be analysed using Jupyter Notebooks for the first time since the CMS detector began operation 😃 The file we will be analysing today is one of the final outputs I generated at the end of my project."
   ]
  },
  {
   "cell_type": "markdown",
   "id": "d9d97f7e",
   "metadata": {},
   "source": [
    "### Importing dependencies"
   ]
  },
  {
   "cell_type": "markdown",
   "id": "ba764b2f",
   "metadata": {},
   "source": [
    "One of the major reasons why it was so hard for scientists to use sophisticated Python IDEs with CMS data was because of how it is formatted. There are some tools that make our analysis easy - Coffea, Uproot, Awkward Array, and Vector. You may have installed them already as part of the technical requirements for this programme. \n",
    "\n",
    "Detector data gets stored in large tables of numerical values. In Python, tables with purely numerical data are represented using arrays. However, we have one major problem - not all rows in our data are of the same length. Python simply does not know what to do with all the 'jagged' rows in the data when we ask it to perform mathematical operations. \n",
    "\n",
    "Awkward array lets us use Python to analyse 'jagged' data with NumPy. You can read the docs here : https://pypi.org/project/awkward/\n",
    "\n",
    "Coffea is a very, very useful tool to analyse particle physics data. It allows us to open and read newer CMS files in Jupyter Notebooks. You can read the docs here : https://coffeateam.github.io/coffea/\n",
    "\n",
    "Some of you may be familiar with NumPy, Python's most popular scientific computing package. You might also be familiar with Matplotlib, a popular library used for data visualisation. We will be using it for plotting our data.\n",
    "\n",
    "In the below cell, we import some of these tools into our notebook. \n"
   ]
  },
  {
   "cell_type": "code",
   "execution_count": 10,
   "id": "d40df463",
   "metadata": {},
   "outputs": [],
   "source": [
    "import numpy as np\n",
    "import matplotlib.pyplot as plt\n",
    "import awkward as ak\n",
    "from coffea.nanoevents import NanoEventsFactory, NanoAODSchema"
   ]
  },
  {
   "cell_type": "markdown",
   "id": "bd152e8e",
   "metadata": {},
   "source": [
    "### Loading our data\n",
    "\n",
    "The file we are analysing contains CMS OpenData from 2015, which means it was generated during Run 2 of the LHC. It is one of the final output files I generated as part of my work at Fermilab in 2022.\n",
    "\n",
    "Unlike regular primary data, this file contains simulations. A lot of research takes place using collision data that is simulated using various methods and physics theories. The file we are using for analysis contains Drell-Yan simulation data. You can reaad more about Drell-Yan processes here : https://en.wikipedia.org/wiki/Drell%E2%80%93Yan_process\n",
    "\n",
    "Let us now load our data sample into our notebook!"
   ]
  },
  {
   "cell_type": "code",
   "execution_count": 2,
   "id": "c878b56f",
   "metadata": {},
   "outputs": [],
   "source": [
    "file = \"nanoaod15_new.root\""
   ]
  },
  {
   "cell_type": "markdown",
   "id": "e0cd16d2",
   "metadata": {},
   "source": [
    "### Loading events\n",
    "\n",
    "Our .root file contains several 'events'. Each event corresponds to a collision. The following command lets us load our events. The file we are using stores the data in a very new 'NanoAOD' format, which allows us to store data more efficiently. This is why we need 'NanoEventsFactory' in order to read the data."
   ]
  },
  {
   "cell_type": "code",
   "execution_count": 3,
   "id": "15f0f2a2",
   "metadata": {},
   "outputs": [
    {
     "name": "stderr",
     "output_type": "stream",
     "text": [
      "/home/sneha/anaconda3/lib/python3.8/site-packages/coffea/nanoevents/schemas/nanoaod.py:193: RuntimeWarning: Missing cross-reference index for FatJet_subJetIdx1 => SubJet\n",
      "  warnings.warn(\n",
      "/home/sneha/anaconda3/lib/python3.8/site-packages/coffea/nanoevents/schemas/nanoaod.py:193: RuntimeWarning: Missing cross-reference index for FatJet_subJetIdx2 => SubJet\n",
      "  warnings.warn(\n"
     ]
    }
   ],
   "source": [
    "events = NanoEventsFactory.from_root(\n",
    "    file, #our data file\n",
    "    schemaclass = NanoAODSchema,\n",
    "    metadata = {\"dataset\":\"DYJets\"},\n",
    ").events()"
   ]
  },
  {
   "cell_type": "markdown",
   "id": "6db6b31a",
   "metadata": {},
   "source": [
    "### Looking at data!\n",
    "\n",
    "What kinds of data does our file contain? The following command displays all the fields of data this file contains. You might recognise some of them! We can analyse each of these fields to extract information about the processes this data describes."
   ]
  },
  {
   "cell_type": "code",
   "execution_count": 4,
   "id": "d1cb7141",
   "metadata": {},
   "outputs": [
    {
     "data": {
      "text/plain": [
       "['GenPart',\n",
       " 'RawPuppiMET',\n",
       " 'Muon',\n",
       " 'fixedGridRhoFastjetCentralChargedPileUp',\n",
       " 'GenMET',\n",
       " 'DeepMETResponseTune',\n",
       " 'PSWeight',\n",
       " 'fixedGridRhoFastjetAll',\n",
       " 'SoftActivityJetNjets5',\n",
       " 'Tau',\n",
       " 'Jet',\n",
       " 'CaloMET',\n",
       " 'GenJet',\n",
       " 'LHEPart',\n",
       " 'Photon',\n",
       " 'L1simulation',\n",
       " 'Flag',\n",
       " 'LHEScaleWeight',\n",
       " 'SoftActivityJetHT',\n",
       " 'ChsMET',\n",
       " 'fixedGridRhoFastjetCentral',\n",
       " 'SoftActivityJetNjets10',\n",
       " 'HLT',\n",
       " 'MET',\n",
       " 'SoftActivityJet',\n",
       " 'SV',\n",
       " 'LHEPdfWeight',\n",
       " 'LHEWeight',\n",
       " 'SoftActivityJetHT10',\n",
       " 'event',\n",
       " 'DeepMETResolutionTune',\n",
       " 'genWeight',\n",
       " 'HTXS',\n",
       " 'HLTriggerFinalPath',\n",
       " 'GenDressedLepton',\n",
       " 'PV',\n",
       " 'GenIsolatedPhoton',\n",
       " 'run',\n",
       " 'GenVisTau',\n",
       " 'GenJetAK8',\n",
       " 'genTtbarId',\n",
       " 'L1Reco',\n",
       " 'LHEReweightingWeight',\n",
       " 'fixedGridRhoFastjetCentralNeutral',\n",
       " 'FsrPhoton',\n",
       " 'TkMET',\n",
       " 'OtherPV',\n",
       " 'Electron',\n",
       " 'FatJet',\n",
       " 'luminosityBlock',\n",
       " 'PuppiMET',\n",
       " 'SoftActivityJetHT5',\n",
       " 'LHE',\n",
       " 'CorrT1METJet',\n",
       " 'fixedGridRhoFastjetCentralCalo',\n",
       " 'btagWeight',\n",
       " 'Pileup',\n",
       " 'RawMET',\n",
       " 'HLTriggerFirstPath',\n",
       " 'SoftActivityJetHT2',\n",
       " 'SoftActivityJetNjets2',\n",
       " 'Generator']"
      ]
     },
     "execution_count": 4,
     "metadata": {},
     "output_type": "execute_result"
    }
   ],
   "source": [
    "events.fields"
   ]
  },
  {
   "cell_type": "markdown",
   "id": "500b2bb0",
   "metadata": {},
   "source": [
    "Now, you might have picked a field you want to analyse. Each of these fields have several subfields of data we can look at. Today, we will be looking at muons. Let us take a closer look at the muon parameters that are in this file."
   ]
  },
  {
   "cell_type": "code",
   "execution_count": 22,
   "id": "92e94ea1",
   "metadata": {},
   "outputs": [
    {
     "data": {
      "text/plain": [
       "['dxy',\n",
       " 'dxyErr',\n",
       " 'dxybs',\n",
       " 'dz',\n",
       " 'dzErr',\n",
       " 'eta',\n",
       " 'ip3d',\n",
       " 'jetPtRelv2',\n",
       " 'jetRelIso',\n",
       " 'mass',\n",
       " 'miniPFRelIso_all',\n",
       " 'miniPFRelIso_chg',\n",
       " 'pfRelIso03_all',\n",
       " 'pfRelIso03_chg',\n",
       " 'pfRelIso04_all',\n",
       " 'phi',\n",
       " 'pt',\n",
       " 'ptErr',\n",
       " 'segmentComp',\n",
       " 'sip3d',\n",
       " 'softMva',\n",
       " 'tkRelIso',\n",
       " 'tunepRelPt',\n",
       " 'mvaLowPt',\n",
       " 'mvaTTH',\n",
       " 'charge',\n",
       " 'jetIdx',\n",
       " 'nStations',\n",
       " 'nTrackerLayers',\n",
       " 'pdgId',\n",
       " 'tightCharge',\n",
       " 'fsrPhotonIdx',\n",
       " 'highPtId',\n",
       " 'highPurity',\n",
       " 'inTimeMuon',\n",
       " 'isGlobal',\n",
       " 'isPFcand',\n",
       " 'isStandalone',\n",
       " 'isTracker',\n",
       " 'jetNDauCharged',\n",
       " 'looseId',\n",
       " 'mediumId',\n",
       " 'mediumPromptId',\n",
       " 'miniIsoId',\n",
       " 'multiIsoId',\n",
       " 'mvaId',\n",
       " 'mvaLowPtId',\n",
       " 'pfIsoId',\n",
       " 'puppiIsoId',\n",
       " 'softId',\n",
       " 'softMvaId',\n",
       " 'tightId',\n",
       " 'tkIsoId',\n",
       " 'triggerIdLoose',\n",
       " 'genPartIdx',\n",
       " 'genPartFlav',\n",
       " 'cleanmask',\n",
       " 'fsrPhotonIdxG',\n",
       " 'genPartIdxG',\n",
       " 'jetIdxG']"
      ]
     },
     "execution_count": 22,
     "metadata": {},
     "output_type": "execute_result"
    }
   ],
   "source": [
    "events.Muon.fields"
   ]
  },
  {
   "cell_type": "markdown",
   "id": "515195e2",
   "metadata": {},
   "source": [
    "### Examining parameters and plotting!\n",
    "\n",
    "As you can see from the output of the previous cell, you can see the mass, charge and other parameters of the muons in this data sample. Let us start by examining a simple enough parameter, the charge of muons. In the following cell, we select the events which include exactly 2 muons (a dimuon event). Then, we look at the charge of the muons in these events."
   ]
  },
  {
   "cell_type": "code",
   "execution_count": 23,
   "id": "543f03c4",
   "metadata": {},
   "outputs": [
    {
     "data": {
      "text/plain": [
       "<Array [[-1, 1], [1, -1], ... [-1, 1], [1, -1]] type='5699 * var * int32[paramet...'>"
      ]
     },
     "execution_count": 23,
     "metadata": {},
     "output_type": "execute_result"
    }
   ],
   "source": [
    "muonevents = events[ak.num(events.Muon) == 2]\n",
    "muon = muonevents.Muon\n",
    "muon.charge "
   ]
  },
  {
   "cell_type": "markdown",
   "id": "fe55176d",
   "metadata": {},
   "source": [
    "Look at the output from the previous cell. Notice that each of the elements in the array is another array with two elements. Each of these two elements correspond to one of the two muons in the dimuon event. Note that each event has a muon and an antimuon (positively charged muon).\n",
    "\n",
    "Let us repeat this for events with a single muon."
   ]
  },
  {
   "cell_type": "code",
   "execution_count": 26,
   "id": "f88629cf",
   "metadata": {},
   "outputs": [
    {
     "data": {
      "text/plain": [
       "<Array [[-1], [1], [1], ... [1], [1], [-1]] type='5510 * var * int32[parameters=...'>"
      ]
     },
     "execution_count": 26,
     "metadata": {},
     "output_type": "execute_result"
    }
   ],
   "source": [
    "muonevents = events[ak.num(events.Muon) == 1]\n",
    "muon = muonevents.Muon\n",
    "muon.charge"
   ]
  },
  {
   "cell_type": "markdown",
   "id": "bc6348fa",
   "metadata": {},
   "source": [
    "Let us now plot the number of muons and antimuons in single muon events in this file. The following commands use matplotlib.pyplot to plot this."
   ]
  },
  {
   "cell_type": "code",
   "execution_count": 27,
   "id": "5137c6f1",
   "metadata": {},
   "outputs": [
    {
     "data": {
      "image/png": "[encoded data removed]",
      "text/plain": [
       "<Figure size 640x480 with 1 Axes>"
      ]
     },
     "metadata": {},
     "output_type": "display_data"
    }
   ],
   "source": [
    "fig, ax = plt.subplots()\n",
    "ax.hist(muon.charge, histtype=\"step\")\n",
    "plt.show()"
   ]
  },
  {
   "cell_type": "markdown",
   "id": "7493d2e9",
   "metadata": {},
   "source": [
    "There seem to be more events with antimuons (positively charged) than there are events with muons (negatively charged)!"
   ]
  },
  {
   "cell_type": "markdown",
   "id": "c0d49063",
   "metadata": {},
   "source": [
    "What do you think the mass of a single muon is? Let us find out by looking at the mass parameter the same way we looked at the charge of muons."
   ]
  },
  {
   "cell_type": "code",
   "execution_count": 26,
   "id": "8adecfbc",
   "metadata": {},
   "outputs": [
    {
     "data": {
      "text/plain": [
       "<Array [[0.106], [0.106], ... [0.106], [0.106]] type='5510 * var * float32[param...'>"
      ]
     },
     "execution_count": 26,
     "metadata": {},
     "output_type": "execute_result"
    }
   ],
   "source": [
    "muonevents = events[ak.num(events.Muon) == 1]\n",
    "muon = muonevents.Muon\n",
    "muon.mass "
   ]
  },
  {
   "cell_type": "markdown",
   "id": "92760de0",
   "metadata": {},
   "source": [
    "Close to expectation, the mass of a muon is shown to be 0.106 GeV, or 106 MeV. (Giga = 10^9, Mega = 10^6)\n",
    "\n",
    "The mass of a single muon is agreed to be 105.66 MeV."
   ]
  },
  {
   "cell_type": "markdown",
   "id": "63ca885d",
   "metadata": {},
   "source": [
    "### A closer look at dimuon events\n",
    "\n",
    "Now, let us take a closer look at what happens to mass in dimuon events. Remember that these are events/collisions where two muons are involved. In the following cell, we inspect the mass of the muons in dimuon events."
   ]
  },
  {
   "cell_type": "code",
   "execution_count": 29,
   "id": "589cf648",
   "metadata": {},
   "outputs": [
    {
     "data": {
      "text/plain": [
       "<Array [90.7, 108, 86.5, ... 91.5, 93.6, 76.1] type='5699 * float32'>"
      ]
     },
     "execution_count": 29,
     "metadata": {},
     "output_type": "execute_result"
    }
   ],
   "source": [
    "dimuonevents = events[ak.num(events.Muon) == 2]\n",
    "dimuon = dimuonevents.Muon[:, 0] + dimuonevents.Muon[:, 1] #adds momenta of particles together \n",
    "dimuon.mass #invariant mass of system of two particles - system of particles = 2 muons\n",
    "#the output of this cell will tell us the mass of the system of 2 muons in the dimuon system.\n"
   ]
  },
  {
   "cell_type": "markdown",
   "id": "53868a39",
   "metadata": {},
   "source": [
    "Let us now plot this spectrum of dimuon mass!"
   ]
  },
  {
   "cell_type": "code",
   "execution_count": 29,
   "id": "9e2a3a24",
   "metadata": {},
   "outputs": [
    {
     "data": {
      "image/png": "[encoded data removed]",
      "text/plain": [
       "<Figure size 640x480 with 1 Axes>"
      ]
     },
     "metadata": {},
     "output_type": "display_data"
    }
   ],
   "source": [
    "fig, ax = plt.subplots()\n",
    "ax.hist(dimuon.mass, histtype=\"step\", bins=np.linspace(0,120,120))\n",
    "plt.show()"
   ]
  },
  {
   "cell_type": "markdown",
   "id": "862d2b26",
   "metadata": {},
   "source": [
    "### Dimuon mass spectrum - what does it mean?\n",
    "\n",
    "The spectrum of dimuon mass has a peak at about 90 GeV for this data set. Note that this peak is at a very different mass than the sum of masses of two muons. This peak corresponds to a very special resonance where a Z boson decays into a muon and an antimuon. \n",
    "\n",
    "The full mass spectrum of dimuon events in larger datasets will contain several other peaks to represent other particles decaying into a similar muon and antimuon pair. Here is a link to a plot on a logarithmic scale showing the other peaks : https://twiki.cern.ch/twiki/pub/CMSPublic/HLTDiMuon2017and2018/CMS_HLT_DimuonMass_Inclusive_2017.png\n",
    "\n",
    "You can see that our peak corresponds to the Z peak on this plot! \n",
    "\n",
    "You can read more about the decay of Z bosons over here : https://atlas.physicsmasterclasses.org/en/zpath_lhcphysics2.htm"
   ]
  }
 ],
 "metadata": {
  "kernelspec": {
   "display_name": "Python 3",
   "language": "python",
   "name": "python3"
  },
  "language_info": {
   "codemirror_mode": {
    "name": "ipython",
    "version": 3
   },
   "file_extension": ".py",
   "mimetype": "text/x-python",
   "name": "python",
   "nbconvert_exporter": "python",
   "pygments_lexer": "ipython3",
   "version": "3.8.8"
  }
 },
 "nbformat": 4,
 "nbformat_minor": 5
}
